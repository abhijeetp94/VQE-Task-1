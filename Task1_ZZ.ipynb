{
 "cells": [
  {
   "cell_type": "markdown",
   "metadata": {},
   "source": [
    "# VQE for ZZ\n",
    "\n",
    "This is a simple Variational Quantum Eigensolver just for practice purposes. It has a very simple Hamiltonian i.e. $Z\\otimes Z$."
   ]
  },
  {
   "cell_type": "code",
   "execution_count": 16,
   "metadata": {},
   "outputs": [],
   "source": [
    "from qiskit import *\n",
    "import numpy as np\n",
    "from math import pi, sqrt"
   ]
  },
  {
   "cell_type": "markdown",
   "metadata": {},
   "source": [
    "# Decomposition\n",
    "\n",
    "Although Decomposition is not needed for this Hamiltonial, but for verification decomposition is done.  \n",
    "The Matrix $Z\\otimes Z$ would be:  \n",
    "$[1, 0,0,0]$  \n",
    "$[0,-1,0,0]$  \n",
    "$[0,0,-1,0]$  \n",
    "$[0, 0,0,1]$  "
   ]
  },
  {
   "cell_type": "code",
   "execution_count": 4,
   "metadata": {},
   "outputs": [],
   "source": [
    "def HS(M1, M2):\n",
    "    \"\"\"Hilbert-Schmidt-Product of two matrices M1, M2\"\"\"\n",
    "    return (np.dot(M1.conjugate().transpose(), M2)).trace()\n",
    "\n",
    "\n",
    "\n",
    "def decompose(H):\n",
    "    \"\"\"Decompose Hermitian 4x4 matrix H into Pauli matrices\"\"\"\n",
    "    from numpy import kron\n",
    "    sx = np.array([[0, 1],  [ 1, 0]], dtype=np.complex128)\n",
    "    sy = np.array([[0, -1j],[1j, 0]], dtype=np.complex128)\n",
    "    sz = np.array([[1, 0],  [0, -1]], dtype=np.complex128)\n",
    "    id = np.array([[1, 0],  [ 0, 1]], dtype=np.complex128)\n",
    "    S = [id, sx, sy, sz]\n",
    "    labels = ['I', 'sigma_x', 'sigma_y', 'sigma_z']\n",
    "    for i in range(4):\n",
    "        for j in range(4):\n",
    "            label = labels[i] + labels[j]\n",
    "            a_ij = 0.25 * HS(kron(S[i], S[j]), H)\n",
    "            if a_ij != 0.0:\n",
    "                print(a_ij,'*' ,label, '+')"
   ]
  },
  {
   "cell_type": "code",
   "execution_count": 5,
   "metadata": {},
   "outputs": [],
   "source": [
    "M = np.array([[1,0,0,0], [0,-1,0,0], [0,0,-1,0],[0,0,0,1]])"
   ]
  },
  {
   "cell_type": "code",
   "execution_count": 6,
   "metadata": {},
   "outputs": [
    {
     "name": "stdout",
     "output_type": "stream",
     "text": [
      "(1+0j) * sigma_zsigma_z +\n"
     ]
    }
   ],
   "source": [
    "decompose(M)"
   ]
  },
  {
   "cell_type": "markdown",
   "metadata": {},
   "source": [
    "# The Hamiltonian\n",
    "\n",
    "\n",
    "$(1+0j) * ZZ$  \n",
    "\n",
    "Because it is completely in the Z basis so basis change is not requried and it only has one circuit so one circuit is required."
   ]
  },
  {
   "cell_type": "markdown",
   "metadata": {},
   "source": [
    "# The ansatz\n",
    "\n",
    "The ansatz chosen here is $Rx Rz$."
   ]
  },
  {
   "cell_type": "code",
   "execution_count": 17,
   "metadata": {},
   "outputs": [],
   "source": [
    "def ansatz(angle):\n",
    "    ckt = QuantumCircuit(2)\n",
    "    ckt.rx(angle, 0)  # Rx on first bit\n",
    "    ckt.rz(angle, 1)  # Rz on second bit\n",
    "    \n",
    "    return ckt"
   ]
  },
  {
   "cell_type": "code",
   "execution_count": 19,
   "metadata": {},
   "outputs": [
    {
     "data": {
      "image/png": "[encoded data removed]",
      "text/plain": [
       "<Figure size 146.652x144.48 with 1 Axes>"
      ]
     },
     "execution_count": 19,
     "metadata": {},
     "output_type": "execute_result"
    }
   ],
   "source": [
    "# The ansatz circuit\n",
    "ckt = ansatz(2*np.pi)\n",
    "ckt.draw(output='mpl')"
   ]
  },
  {
   "cell_type": "markdown",
   "metadata": {},
   "source": [
    "# The ZZ Circuit Measurement\n",
    "\n",
    "Because all of the measurements are done in the Z basis, so no basis change is required i.e. we can directly measure the results."
   ]
  },
  {
   "cell_type": "code",
   "execution_count": 9,
   "metadata": {},
   "outputs": [
    {
     "data": {
      "image/png": "[encoded data removed]",
      "text/plain": [
       "<Figure size 357.679x204.68 with 1 Axes>"
      ]
     },
     "execution_count": 9,
     "metadata": {},
     "output_type": "execute_result"
    }
   ],
   "source": [
    "def zz_part(ckt):\n",
    "    zz_ckt = ckt.copy()\n",
    "    zz_ckt.measure_all()\n",
    "    return zz_ckt\n",
    "\n",
    "zz_ckt = zz_part(ckt)\n",
    "zz_ckt.draw(output='mpl')"
   ]
  },
  {
   "cell_type": "code",
   "execution_count": 10,
   "metadata": {},
   "outputs": [],
   "source": [
    "# The simulator\n",
    "\n",
    "sim = Aer.get_backend(\"qasm_simulator\")"
   ]
  },
  {
   "cell_type": "markdown",
   "metadata": {},
   "source": [
    "# The ZZ Calculations\n",
    "\n",
    "The simulation needs to be done multiple times and after taking the average we can get the eigenvalue for the given circuit.  \n",
    "For hamiltonian calculation we simply need to add the value for all the parts of the hamiltonian. But our hamiltonian has only one part so it is going to be the energy itself."
   ]
  },
  {
   "cell_type": "code",
   "execution_count": 11,
   "metadata": {},
   "outputs": [],
   "source": [
    "def ZZ(ckt, shots=1000):\n",
    "    zz_ckt = zz_part(ckt)\n",
    "    # run the simulation\n",
    "    res = execute(zz_ckt, backend = sim, shots=shots).result()\n",
    "    items = res.get_counts(zz_ckt).items()\n",
    "    \n",
    "    sm=0\n",
    "    for key, count in items:\n",
    "        sm = sm + ((-1)**(int(key[0]) + int(key[1])) * count)\n",
    "    ans = sm/shots\n",
    "#     print(ans)\n",
    "    return ans\n"
   ]
  },
  {
   "cell_type": "code",
   "execution_count": 12,
   "metadata": {},
   "outputs": [],
   "source": [
    "def Ham(ckt, shots=1000):\n",
    "    zz_ans = ZZ(ckt, shots)\n",
    "    e = 1*zz_ans\n",
    "    return e"
   ]
  },
  {
   "cell_type": "code",
   "execution_count": 13,
   "metadata": {},
   "outputs": [
    {
     "name": "stdout",
     "output_type": "stream",
     "text": [
      "Minimum energy eigenvalue is: -1.0\n"
     ]
    }
   ],
   "source": [
    "min_energy = 100\n",
    "for i in range(0, 361):\n",
    "    ckt = ansatz(i*np.pi/180)\n",
    "    energy = Ham(ckt, 1000)\n",
    "#     print(f\"current energy for angle theta = {i} is {energy}\")\n",
    "    if(energy < min_energy):\n",
    "        min_energy = energy\n",
    "\n",
    "print(f\"Minimum energy eigenvalue is: {min_energy}\")"
   ]
  },
  {
   "cell_type": "code",
   "execution_count": 14,
   "metadata": {},
   "outputs": [
    {
     "name": "stdout",
     "output_type": "stream",
     "text": [
      "Lowest eigenvalue found classicaly is -1.0\n"
     ]
    }
   ],
   "source": [
    "w = np.linalg.eigvals(M)\n",
    "print(f'Lowest eigenvalue found classicaly is {min(w)}')"
   ]
  },
  {
   "cell_type": "code",
   "execution_count": null,
   "metadata": {},
   "outputs": [],
   "source": []
  }
 ],
 "metadata": {
  "kernelspec": {
   "display_name": "Python 3",
   "language": "python",
   "name": "python3"
  },
  "language_info": {
   "codemirror_mode": {
    "name": "ipython",
    "version": 3
   },
   "file_extension": ".py",
   "mimetype": "text/x-python",
   "name": "python",
   "nbconvert_exporter": "python",
   "pygments_lexer": "ipython3",
   "version": "3.7.4"
  }
 },
 "nbformat": 4,
 "nbformat_minor": 4
}
